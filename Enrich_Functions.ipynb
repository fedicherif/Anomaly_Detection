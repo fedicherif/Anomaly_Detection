{
 "cells": [
  {
   "cell_type": "markdown",
   "metadata": {},
   "source": [
    "**This Notebook contains a set of enrichment functions for numerical attributes**"
   ]
  },
  {
   "cell_type": "code",
   "execution_count": null,
   "metadata": {},
   "outputs": [],
   "source": [
    "def moving_mean(input_df, nbr_days, date_column, numerical_columns):\n",
    "    \"\"\"Compute the rolling average for a given periode in term of days\"\"\"\n",
    "    df = input_df.set_index(date_column)\n",
    "    df = df[numerical_columns].rolling('{}D'.format(nbr_days)).mean()\n",
    "    df.columns = [\"{} MM\".format(column) for column in df.columns]\n",
    "    return pd.concat([input_df, df.reset_index(drop=True)], axis=1)"
   ]
  },
  {
   "cell_type": "code",
   "execution_count": 6,
   "metadata": {},
   "outputs": [],
   "source": [
    "def quantile(input_df, numerical_columns):\n",
    "    \"\"\"Return the value greater than quantile 90\"\"\"\n",
    "    enrich_df = input_df.copy()\n",
    "    enrich_df['Quantile_91'] = enrich_df[numerical_columns].quantile(q=0.91, axis=1)\n",
    "    return enrich_df"
   ]
  },
  {
   "cell_type": "code",
   "execution_count": 10,
   "metadata": {},
   "outputs": [],
   "source": [
    "def enrich(input_df, numerical_columns):\n",
    "    \"\"\"Compute median, square max, max, min and standard deviation to enrich numerical attributes for each row\"\"\"\n",
    "    import numpy as np\n",
    "    enrich_df = input_df.copy()\n",
    "    data = input_df[numerical_columns]\n",
    "    # Compute the median\n",
    "    enrich_df['Median'] = data.median(axis=1)\n",
    "    # Compute the square max\n",
    "    enrich_df['Square Max'] = np.power(data.max(axis=1), 2)\n",
    "    # compute the max\n",
    "    enrich_df['Max'] = data.max(axis=1)\n",
    "    # Compute the min\n",
    "    enrich_df['Min'] = data.min(axis=1)\n",
    "    # compute the Standard Deviation\n",
    "    enrich_df['SD'] = data.std(axis=1)\n",
    "    # Compute the Coefficient of Variation\n",
    "    enrich_df['CV'] = data.apply(lambda line: np.std(line) / np.mean(line), axis=1)\n",
    "    return enrich_df"
   ]
  },
  {
   "cell_type": "markdown",
   "metadata": {},
   "source": [
    "**------------------------------------------------------------------------------------------------**"
   ]
  },
  {
   "cell_type": "code",
   "execution_count": 7,
   "metadata": {},
   "outputs": [],
   "source": [
    "def square_max(input_df, numerical_columns):\n",
    "    \"\"\"Compute the square of the last maximum\"\"\"\n",
    "    import numpy as np\n",
    "    df_enrich = input_df.copy()\n",
    "    df_enrich['Square Max'] = np.power(df_enrich[numerical_columns].max(axis=1), 2)\n",
    "    return df_enrich"
   ]
  },
  {
   "cell_type": "code",
   "execution_count": 4,
   "metadata": {},
   "outputs": [],
   "source": [
    "def median(input_df, numerical_columns):\n",
    "    \"\"\"Compute the median for each row\"\"\"\n",
    "    enrich_df = input_df.copy()\n",
    "    enrich_df['Median'] = enrich_df[numerical_columns].median(axis=1)\n",
    "    return enrich_df"
   ]
  },
  {
   "cell_type": "code",
   "execution_count": 9,
   "metadata": {},
   "outputs": [],
   "source": [
    "def min_max(input_df, numerical_columns):\n",
    "    \"\"\"Compute the min and the max of the last maximum\"\"\"\n",
    "    df_enrich = input_df.copy()\n",
    "    df_enrich['Max'] = df_enrich[numerical_columns].max(axis=1)\n",
    "    df_enrich['Min'] = df_enrich[numerical_columns].min(axis=1)\n",
    "    return df_enrich"
   ]
  },
  {
   "cell_type": "code",
   "execution_count": null,
   "metadata": {},
   "outputs": [],
   "source": [
    "def standard_deviation(input_df, numerical_columns):\n",
    "    \"\"\"Compute the standard deviation and variance of the last maximum\"\"\"\n",
    "    df_enrich = input_df.copy()\n",
    "    df_enrich['SD'] = df_enrich[numerical_columns].std(axis=1)\n",
    "    return df_enrich"
   ]
  },
  {
   "cell_type": "code",
   "execution_count": null,
   "metadata": {},
   "outputs": [],
   "source": []
  }
 ],
 "metadata": {
  "kernelspec": {
   "display_name": "Python 3",
   "language": "python",
   "name": "python3"
  },
  "language_info": {
   "codemirror_mode": {
    "name": "ipython",
    "version": 3
   },
   "file_extension": ".py",
   "mimetype": "text/x-python",
   "name": "python",
   "nbconvert_exporter": "python",
   "pygments_lexer": "ipython3",
   "version": "3.7.1"
  }
 },
 "nbformat": 4,
 "nbformat_minor": 2
}
